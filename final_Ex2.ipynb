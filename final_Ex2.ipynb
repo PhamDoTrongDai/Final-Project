{
  "nbformat": 4,
  "nbformat_minor": 0,
  "metadata": {
    "colab": {
      "private_outputs": true,
      "provenance": []
    },
    "kernelspec": {
      "name": "python3",
      "display_name": "Python 3"
    },
    "language_info": {
      "name": "python"
    }
  },
  "cells": [
    {
      "cell_type": "markdown",
      "source": [
        "*   **Thành viên 1: 519H0148 - Phạm Đỗ Trọng Đại**\n",
        "*   **Thành viên 2: 521H0326 - Nguyễn Anh Tuấn**\n",
        "\n"
      ],
      "metadata": {
        "id": "wr3W8XUTOD53"
      }
    },
    {
      "cell_type": "code",
      "execution_count": null,
      "metadata": {
        "id": "o57L6DpaPZqW"
      },
      "outputs": [],
      "source": [
        "import numpy as np\n",
        "import pandas as pd"
      ]
    },
    {
      "cell_type": "code",
      "source": [
        "AMZN_df = pd.read_csv('AMZN.csv', parse_dates = ['Date'], index_col = 0)"
      ],
      "metadata": {
        "id": "HCQOUpSLPlRb"
      },
      "execution_count": null,
      "outputs": []
    },
    {
      "cell_type": "code",
      "source": [
        "# In ra kích thước của DataFrame 'AMZN_df'\n",
        "print(AMZN_df.shape)"
      ],
      "metadata": {
        "id": "XeN6TC7wPoqb"
      },
      "execution_count": null,
      "outputs": []
    },
    {
      "cell_type": "code",
      "source": [
        "# Hiển thị 5 dòng đầu DataFrame\n",
        "AMZN_df.head()"
      ],
      "metadata": {
        "id": "ABGVoLV0PqYR"
      },
      "execution_count": null,
      "outputs": []
    },
    {
      "cell_type": "code",
      "source": [
        "# Hiển thị 5 dòng cuối DataFrame\n",
        "AMZN_df.tail()"
      ],
      "metadata": {
        "id": "01GUzeKEPtmN"
      },
      "execution_count": null,
      "outputs": []
    },
    {
      "cell_type": "code",
      "source": [
        "#in ra tổng số lượng giá trị null trong DataFrame\n",
        "print(AMZN_df.isnull().values.sum())\n",
        "print()"
      ],
      "metadata": {
        "id": "qPD6rcbIPwhS"
      },
      "execution_count": null,
      "outputs": []
    },
    {
      "cell_type": "code",
      "source": [
        "#kiểm tra xem có giá trị bằng 0 trong DataFrame không\n",
        "print(AMZN_df.eq(0).any().any())"
      ],
      "metadata": {
        "id": "x9ql7pQWPybv"
      },
      "execution_count": null,
      "outputs": []
    },
    {
      "cell_type": "code",
      "source": [
        "print(sum(AMZN_df['Close'] - AMZN_df['Adj Close']))"
      ],
      "metadata": {
        "id": "R-JAxxRUP0Y0"
      },
      "execution_count": null,
      "outputs": []
    },
    {
      "cell_type": "code",
      "source": [
        "#loại bỏ cột 'Adj Close' từ DataFrame\n",
        "AMZN_df.drop('Adj Close' , inplace = True , axis = 1)"
      ],
      "metadata": {
        "id": "4OyLxJbuP2Fv"
      },
      "execution_count": null,
      "outputs": []
    },
    {
      "cell_type": "code",
      "source": [
        "print(AMZN_df.head())\n",
        "print()"
      ],
      "metadata": {
        "id": "aK701ZZLP3Zu"
      },
      "execution_count": null,
      "outputs": []
    },
    {
      "cell_type": "markdown",
      "source": [
        "# EDA(Exploratory Data Analysis)"
      ],
      "metadata": {
        "id": "qQnLbHLuP-jR"
      }
    },
    {
      "cell_type": "markdown",
      "source": [
        "### **Thực hiện phân tích về (Open, High, Low, Close)**"
      ],
      "metadata": {
        "id": "z7nFfmozQDfd"
      }
    },
    {
      "cell_type": "code",
      "source": [
        "import seaborn as sns\n",
        "import matplotlib.pyplot as plt"
      ],
      "metadata": {
        "id": "4Am_3S1pP5rd"
      },
      "execution_count": null,
      "outputs": []
    },
    {
      "cell_type": "code",
      "source": [
        "# Tạo một subplot với kích thước 20x10\n",
        "fig, ax = plt.subplots(figsize=(20,10))\n",
        "# Vẽ đồ thị đường sử dụng seaborn, dữ liệu là cột 'Open' của DataFrame AMZN_df\n",
        "sns.lineplot(data=AMZN_df['Open'],linewidth=1)\n",
        "plt.legend(['Amazon'])\n",
        "plt.title(\"'Open' stock prices from 2015 to 2020\")\n",
        "plt.xlabel('Year')"
      ],
      "metadata": {
        "id": "8iWYTDknQIxp"
      },
      "execution_count": null,
      "outputs": []
    },
    {
      "cell_type": "code",
      "source": [
        "# Tạo một subplot với kích thước 20x10\n",
        "fig, ax = plt.subplots(figsize=(20,10))\n",
        "# Vẽ đồ thị đường sử dụng seaborn, dữ liệu là cột 'High' của DataFrame AMZN_df\n",
        "sns.lineplot(data=AMZN_df['High'],linewidth=1)\n",
        "plt.legend(['Amazon'])\n",
        "plt.title(\"'High' stock prices from 2015 to 2020\")\n",
        "plt.xlabel('Year')"
      ],
      "metadata": {
        "id": "zpl98aWRo81N"
      },
      "execution_count": null,
      "outputs": []
    },
    {
      "cell_type": "code",
      "source": [
        "# Tạo một subplot với kích thước 20x10\n",
        "fig, ax = plt.subplots(figsize=(20,10))\n",
        "# Vẽ đồ thị đường sử dụng seaborn, dữ liệu là cột 'Low' của DataFrame AMZN_df\n",
        "sns.lineplot(data=AMZN_df['Low'],linewidth=1)\n",
        "plt.legend(['Amazon'])\n",
        "plt.title(\"'Low' stock prices from 2015 to 2020\")\n",
        "plt.xlabel('Year')"
      ],
      "metadata": {
        "id": "Gop6lm8upFoD"
      },
      "execution_count": null,
      "outputs": []
    },
    {
      "cell_type": "code",
      "source": [
        "# Tạo một subplot với kích thước 20x10\n",
        "fig, ax = plt.subplots(figsize=(20,10))\n",
        "# Vẽ đồ thị đường sử dụng seaborn, dữ liệu là cột 'Close' của DataFrame AMZN_df\n",
        "sns.lineplot(data=AMZN_df['Close'],linewidth=1)\n",
        "plt.legend(['Amazon'])\n",
        "plt.title(\"'Close' stock prices from 2015 to 2020\")\n",
        "plt.xlabel('Year')"
      ],
      "metadata": {
        "id": "npINVslipKmE"
      },
      "execution_count": null,
      "outputs": []
    },
    {
      "cell_type": "markdown",
      "source": [
        "### **Thực hiện phân tích về (Volumn)**"
      ],
      "metadata": {
        "id": "yL0Z1z7FQcbN"
      }
    },
    {
      "cell_type": "code",
      "source": [
        "# Tạo một figure và một trục sử dụng subplots, với kích thước (20, 10)\n",
        "fig, ax = plt.subplots(figsize=(20,10))\n",
        "# Sử dụng seaborn để vẽ đồ thị đường ('lineplot') với dữ liệu từ cột 'Volume' của DataFrame\n",
        "sns.lineplot(data=AMZN_df['Volume'],linewidth=1)\n",
        "plt.legend(['Amazon'])\n",
        "plt.title(\"'Volume' from 2015 to 2020\")\n",
        "plt.xlabel('Year')"
      ],
      "metadata": {
        "id": "AOTmwOpOQSqb"
      },
      "execution_count": null,
      "outputs": []
    },
    {
      "cell_type": "markdown",
      "source": [
        "### **Hệ số tương quan**"
      ],
      "metadata": {
        "id": "KHN1ZqrTQk6H"
      }
    },
    {
      "cell_type": "code",
      "source": [
        "#Tạo 1 figure với 1 cột\n",
        "fig, axs = plt.subplots(ncols=1,figsize=(20,12))\n",
        "# Vẽ heatmap của ma trận tương quan của DataFrame\n",
        "sns.heatmap(AMZN_df.corr(), annot=True, cmap = plt.cm.CMRmap_r, linecolor='white', linewidth=2, ax=axs)\n",
        "axs.title.set_text('Amazon feature correlation')\n",
        "plt.show()"
      ],
      "metadata": {
        "id": "ADrr-HC8Qjlt"
      },
      "execution_count": null,
      "outputs": []
    },
    {
      "cell_type": "markdown",
      "source": [
        "**Feature Open, high, low có mối tương quan cao với feature Close. Chúng ta có thể sử dụng một trong hai đặc điểm này để dự đoán nhằm tránh hiện tượng đa cộng tuyến**"
      ],
      "metadata": {
        "id": "6lnGtKbuQtlz"
      }
    },
    {
      "cell_type": "markdown",
      "source": [
        "# Chuẩn hóa dữ liệu"
      ],
      "metadata": {
        "id": "Zjw4QUebQukG"
      }
    },
    {
      "cell_type": "code",
      "source": [
        "# Chuẩn hóa dữ liệu sử dụng MinMaxScaler\n",
        "from sklearn.preprocessing import MinMaxScaler\n",
        "sc = MinMaxScaler(feature_range = (0, 1))"
      ],
      "metadata": {
        "id": "Zu28-kWIQrNf"
      },
      "execution_count": null,
      "outputs": []
    },
    {
      "cell_type": "markdown",
      "source": [
        "## AMAZON"
      ],
      "metadata": {
        "id": "G_18A77kQ01r"
      }
    },
    {
      "cell_type": "code",
      "source": [
        "AMZN_close_stock = AMZN_df['Close']\n",
        "#thực hiện chuẩn hóa giá đóng cửa của cổ phiếu\n",
        "AMZN_close_stock_scaled = sc.fit_transform(np.array(AMZN_close_stock).reshape(-1,1))\n",
        "AMZN_close_stock_scaled"
      ],
      "metadata": {
        "id": "7ouGI06fQ2E7"
      },
      "execution_count": null,
      "outputs": []
    },
    {
      "cell_type": "code",
      "source": [
        "#Tính toán kích thước của tập huấn luyện bằng cách lấy 65% của tổng số lượng mẫu dữ liệu trong chuỗi thời gian của giá đóng cửa của cổ phiếu Amazon\n",
        "AMZN_train_size = int(len(AMZN_close_stock_scaled)*0.65)\n",
        "#Tính toán kích thước của tập kiểm thử bằng cách lấy phần còn lại 35% của tổng số lượng mẫu dữ liệu sau khi đã chọn tập huấn luyện.\n",
        "AMZN_test_size = len(AMZN_close_stock_scaled) - AMZN_train_size\n",
        "#Chia dữ liệu thành tập huấn luyện và tập kiểm thử\n",
        "AMZN_train_set, AMZN_test_set = AMZN_close_stock_scaled[0:AMZN_train_size, :], AMZN_close_stock_scaled[AMZN_train_size:len(AMZN_close_stock_scaled), :1]"
      ],
      "metadata": {
        "id": "_uN1CqG6Q6zU"
      },
      "execution_count": null,
      "outputs": []
    },
    {
      "cell_type": "markdown",
      "source": [
        "# Tạo train data, test data"
      ],
      "metadata": {
        "id": "iUDN5UMOQ8N0"
      }
    },
    {
      "cell_type": "code",
      "source": [
        "def load_data(dataset, timesteps = 1):\n",
        "  X = []\n",
        "  y = []\n",
        "  for i in range(timesteps, len(dataset)):\n",
        "    X.append(dataset[i-timesteps:i, 0])\n",
        "    y.append(dataset[i, 0])\n",
        "\n",
        "  return np.array(X), np.array(y)\n"
      ],
      "metadata": {
        "id": "-UkJBZz_Q-t7"
      },
      "execution_count": null,
      "outputs": []
    },
    {
      "cell_type": "code",
      "source": [
        "timesteps = 100\n",
        "\n",
        "AMAZON_x_train, AMAZON_y_train = load_data(AMZN_train_set,timesteps)\n",
        "AMAZON_x_test, AMAZON_y_test = load_data(AMZN_test_set,timesteps)\n",
        "# print(AMAZON_x_train)\n",
        "print(AMAZON_x_train.shape)\n",
        "# print(AMAZON_y_train)\n",
        "print(AMAZON_y_train.shape)"
      ],
      "metadata": {
        "id": "J-u3lGX_RA8R"
      },
      "execution_count": null,
      "outputs": []
    },
    {
      "cell_type": "code",
      "source": [
        "# Định hình lại\n",
        "AMAZON_x_train = np.reshape(AMAZON_x_train, (AMAZON_x_train.shape[0], AMAZON_x_train.shape[1], 1))\n",
        "AMAZON_x_test = np.reshape(AMAZON_x_test, (AMAZON_x_test.shape[0], AMAZON_x_test.shape[1], 1))"
      ],
      "metadata": {
        "id": "bdkn1ERrRDTY"
      },
      "execution_count": null,
      "outputs": []
    },
    {
      "cell_type": "markdown",
      "source": [
        "# Model and validate data"
      ],
      "metadata": {
        "id": "hOfLXQI2RFTt"
      }
    },
    {
      "cell_type": "code",
      "source": [
        "from tensorflow.keras.models import Sequential\n",
        "from tensorflow.keras.layers import Dense, Activation, Dropout, SimpleRNN"
      ],
      "metadata": {
        "id": "B4WaBe3fRF8R"
      },
      "execution_count": null,
      "outputs": []
    },
    {
      "cell_type": "code",
      "source": [
        "# sử dụng thư viện Keras để xây dựng một mô hình mạng nơ-ron sử dụng lớp SimpleRNN\n",
        "def SimpleRNN_model_without_dropout(trainX, trainy):\n",
        "  n_timesteps, n_features, n_outputs = trainX.shape[1], trainX.shape[2], 1\n",
        "  input_shape=(n_timesteps,n_features)\n",
        "  print (input_shape)\n",
        "  model = Sequential()\n",
        "  # Thêm lớp RNN đầu tiên\n",
        "  model.add(SimpleRNN(units = 50, activation='tanh', return_sequences = True, input_shape = input_shape))\n",
        "\n",
        "  # Thêm lớp RNN đầu thứ 2\n",
        "  model.add(SimpleRNN(units = 50, return_sequences = True))\n",
        "\n",
        "  # Thêm lớp LSTM thứ ba\n",
        "  model.add(SimpleRNN(units = 50))\n",
        "\n",
        "  # Thêm lớp đầu ra\n",
        "  model.add((Dense(n_outputs)))\n",
        "  return model"
      ],
      "metadata": {
        "id": "KpNF6cwYRIQW"
      },
      "execution_count": null,
      "outputs": []
    },
    {
      "cell_type": "code",
      "source": [
        "#sử dụng thư viện Keras để định nghĩa một mô hình SimpleRNN với lớp Dropout.\n",
        "def SimpleRNN_model_dropout(trainX, trainy):\n",
        "  n_timesteps, n_features, n_outputs = trainX.shape[1], trainX.shape[2], 1\n",
        "  input_shape=(n_timesteps,n_features)\n",
        "  print (input_shape)\n",
        "  model = Sequential()\n",
        "  # Thêm lớp RNN đầu tiên và một số chính quy Dropout\n",
        "  model.add(SimpleRNN(units = 50, activation='tanh', return_sequences = True, input_shape = input_shape))\n",
        "  model.add(Dropout(0.2))\n",
        "\n",
        "  # Thêm lớp RNN thứ 2 và một số chính quy Dropout\n",
        "  model.add(SimpleRNN(units = 50, return_sequences = True))\n",
        "  model.add(Dropout(0.2))\n",
        "\n",
        "  # Thêm lớp LSTM thứ ba và một số chính quy Dropout\n",
        "  model.add(SimpleRNN(units = 50))\n",
        "  model.add(Dropout(0.2))\n",
        "  # Thêm lớp đầu ra\n",
        "  model.add((Dense(n_outputs)))\n",
        "  return model"
      ],
      "metadata": {
        "id": "Z5Z0rY55RKke"
      },
      "execution_count": null,
      "outputs": []
    },
    {
      "cell_type": "markdown",
      "source": [
        "### **AMAZON**"
      ],
      "metadata": {
        "id": "V7NGSROBROBy"
      }
    },
    {
      "cell_type": "markdown",
      "source": [
        "## RNN"
      ],
      "metadata": {
        "id": "tIuqg7amRPfS"
      }
    },
    {
      "cell_type": "markdown",
      "source": [
        "#### **RNN không dùng Regularization method**"
      ],
      "metadata": {
        "id": "ipArxBfVRTjP"
      }
    },
    {
      "cell_type": "code",
      "source": [
        "# Tạo và huấn luyện mô hình RNN\n",
        "AMAZON_model=SimpleRNN_model_without_dropout(AMAZON_x_train, AMAZON_y_train)"
      ],
      "metadata": {
        "id": "6mdiOQvTRU8v"
      },
      "execution_count": null,
      "outputs": []
    },
    {
      "cell_type": "code",
      "source": [
        "AMAZON_model.summary()"
      ],
      "metadata": {
        "id": "s3B8biVeRXC7"
      },
      "execution_count": null,
      "outputs": []
    },
    {
      "cell_type": "code",
      "source": [
        "# Biên dịch RNN\n",
        "AMAZON_model.compile(optimizer = 'adam', loss = 'mean_squared_error')"
      ],
      "metadata": {
        "id": "CAvXCH_sRYWW"
      },
      "execution_count": null,
      "outputs": []
    },
    {
      "cell_type": "code",
      "source": [
        "# đo lường thời gian thực hiện quá trình huấn luyện.\n",
        "import datetime\n",
        "begin_time = datetime.datetime.now()\n",
        "epochs, batch_size = 100, 32\n",
        "history=AMAZON_model.fit(AMAZON_x_train, AMAZON_y_train, shuffle=True, validation_split = 0.1, epochs=epochs, batch_size=batch_size, verbose=1)\n",
        "print(datetime.datetime.now() - begin_time)"
      ],
      "metadata": {
        "id": "PgDS63XbRY-N"
      },
      "execution_count": null,
      "outputs": []
    },
    {
      "cell_type": "markdown",
      "source": [
        "##### **Thực hiện dự đoán và kiểm tra số liệu hiệu suất**"
      ],
      "metadata": {
        "id": "RHiCY-RdRbcY"
      }
    },
    {
      "cell_type": "code",
      "source": [
        "# plot loss trong quá trình huấn luyện\n",
        "plt.plot(history.history['loss'], label='train')\n",
        "plt.plot(history.history['val_loss'], label='test')\n",
        "plt.legend()\n",
        "plt.show()"
      ],
      "metadata": {
        "id": "f71HHnKBRaPm"
      },
      "execution_count": null,
      "outputs": []
    },
    {
      "cell_type": "code",
      "source": [
        "# kiểm tra thời gian chạy của hai pha dự đoán trên tập huấn luyện và tập kiểm thử và in ra kết quả\n",
        "begin_time = datetime.datetime.now()\n",
        "train_pred = AMAZON_model.predict(AMAZON_x_train)\n",
        "test_pred = AMAZON_model.predict(AMAZON_x_test)\n",
        "print(datetime.datetime.now() - begin_time)"
      ],
      "metadata": {
        "id": "MIPJq7doRgvO"
      },
      "execution_count": null,
      "outputs": []
    },
    {
      "cell_type": "code",
      "source": [
        "# chuyển đổi các dự đoán được chuẩn hóa (scaled predictions) trở lại đơn vị thực tế\n",
        "train_pred_inv = sc.inverse_transform(train_pred.copy())\n",
        "test_pred_inv = sc.inverse_transform(test_pred.copy())\n",
        "AMAZON_y_train_inv = sc.inverse_transform(np.reshape(AMAZON_y_train,(len(AMAZON_y_train),1)))\n",
        "AMAZON_y_test_inv = sc.inverse_transform(np.reshape(AMAZON_y_test,(len(AMAZON_y_test),1)))"
      ],
      "metadata": {
        "id": "_7mUbKDQRnXW"
      },
      "execution_count": null,
      "outputs": []
    },
    {
      "cell_type": "code",
      "source": [
        "# chỉ số đánh giá\n",
        "mse = np.mean(((train_pred_inv - AMAZON_y_train_inv) ** 2))\n",
        "print(\"MSE\", mse)\n",
        "print(\"RMSE\", np.sqrt(mse))"
      ],
      "metadata": {
        "id": "Sql7iIFsRqLf"
      },
      "execution_count": null,
      "outputs": []
    },
    {
      "cell_type": "code",
      "source": [
        "mse = np.mean(((test_pred_inv - AMAZON_y_test_inv) ** 2))\n",
        "print(\"MSE\", mse)\n",
        "print(\"RMSE\", np.sqrt(mse))"
      ],
      "metadata": {
        "id": "-3eY4ug6RsAX"
      },
      "execution_count": null,
      "outputs": []
    },
    {
      "cell_type": "code",
      "source": [
        "# đánh giá hiệu suất của mô hình học máy (machine learning) trên tập kiểm thử (test set)\n",
        "from sklearn.metrics import accuracy_score\n",
        "# kiểm tra mô hình dự đoán trên 10 mẫu đầu tiên trong tập kiểm thử\n",
        "for i in range(10):\n",
        "    print(test_pred_inv[i], AMAZON_y_test_inv[i])"
      ],
      "metadata": {
        "id": "ohZSitWmRyXx"
      },
      "execution_count": null,
      "outputs": []
    },
    {
      "cell_type": "code",
      "source": [
        "plt.figure(figsize=(16,8))\n",
        "plt.plot(AMAZON_y_test_inv, color = 'black', label = 'Test')\n",
        "plt.plot(test_pred_inv, color = 'green', label = 'pred')\n",
        "plt.title('SimpleRNN without DROPOUT REGULARIZATION')\n",
        "plt.legend()\n",
        "plt.show()"
      ],
      "metadata": {
        "id": "ECQ1nZJ3Rzgg"
      },
      "execution_count": null,
      "outputs": []
    },
    {
      "cell_type": "markdown",
      "source": [
        "#### **RNN sử dụng Regularization method**"
      ],
      "metadata": {
        "id": "133TbvVdR03h"
      }
    },
    {
      "cell_type": "code",
      "source": [
        "# Tạo và huấn luyện mô hình RNN với kĩ thuật Dropout\n",
        "AMAZON_model_dropout=SimpleRNN_model_dropout(AMAZON_x_train, AMAZON_y_train)"
      ],
      "metadata": {
        "id": "qcPrZ44UR2P3"
      },
      "execution_count": null,
      "outputs": []
    },
    {
      "cell_type": "code",
      "source": [
        "AMAZON_model_dropout.summary()"
      ],
      "metadata": {
        "id": "myLBuAaAR4KL"
      },
      "execution_count": null,
      "outputs": []
    },
    {
      "cell_type": "code",
      "source": [
        "# Biên dịch RNN\n",
        "AMAZON_model_dropout.compile(optimizer = 'adam', loss = 'mean_squared_error')"
      ],
      "metadata": {
        "id": "lXd3xBgFR5hG"
      },
      "execution_count": null,
      "outputs": []
    },
    {
      "cell_type": "code",
      "source": [
        "# đo lường thời gian thực hiện quá trình huấn luyện.\n",
        "import datetime\n",
        "begin_time = datetime.datetime.now()\n",
        "epochs, batch_size = 100, 32\n",
        "history=AMAZON_model_dropout.fit(AMAZON_x_train, AMAZON_y_train, shuffle=True, validation_split = 0.1, epochs=epochs, batch_size=batch_size, verbose=1)\n",
        "print(datetime.datetime.now() - begin_time)"
      ],
      "metadata": {
        "id": "x9AMTIiWR6jY"
      },
      "execution_count": null,
      "outputs": []
    },
    {
      "cell_type": "markdown",
      "source": [
        "##### **Do the prediction and check performance metrics**"
      ],
      "metadata": {
        "id": "Yj-nWKR3R9Ae"
      }
    },
    {
      "cell_type": "code",
      "source": [
        "# plot loss trong quá trình huấn luyện\n",
        "plt.plot(history.history['loss'], label='train')\n",
        "plt.plot(history.history['val_loss'], label='test')\n",
        "plt.legend()\n",
        "plt.show()"
      ],
      "metadata": {
        "id": "o-h5Z73iR8Am"
      },
      "execution_count": null,
      "outputs": []
    },
    {
      "cell_type": "code",
      "source": [
        "# kiểm tra thời gian chạy của hai pha dự đoán trên tập huấn luyện và tập kiểm thử và in ra kết quả\n",
        "begin_time = datetime.datetime.now()\n",
        "train_pred = AMAZON_model_dropout.predict(AMAZON_x_train)\n",
        "test_pred = AMAZON_model_dropout.predict(AMAZON_x_test)\n",
        "print(datetime.datetime.now() - begin_time)"
      ],
      "metadata": {
        "id": "8M_vlOVMSBDy"
      },
      "execution_count": null,
      "outputs": []
    },
    {
      "cell_type": "code",
      "source": [
        "# chuyển đổi các dự đoán được chuẩn hóa (scaled predictions) trở lại đơn vị thực tế\n",
        "train_pred_inv = sc.inverse_transform(train_pred.copy())\n",
        "test_pred_inv = sc.inverse_transform(test_pred.copy())\n",
        "AMAZON_y_train_inv = sc.inverse_transform(np.reshape(AMAZON_y_train,(len(AMAZON_y_train),1)))\n",
        "AMAZON_y_test_inv = sc.inverse_transform(np.reshape(AMAZON_y_test,(len(AMAZON_y_test),1)))"
      ],
      "metadata": {
        "id": "xTjqEKUrSCQ4"
      },
      "execution_count": null,
      "outputs": []
    },
    {
      "cell_type": "code",
      "source": [
        "# SimpleRNN với Dropout regularization\n",
        "# chỉ số đánh giá\n",
        "mse = np.mean(((train_pred_inv - AMAZON_y_train_inv) ** 2))\n",
        "print(\"MSE\", mse)\n",
        "print(\"RMSE\", np.sqrt(mse))"
      ],
      "metadata": {
        "id": "VG5h_oXXSDk1"
      },
      "execution_count": null,
      "outputs": []
    },
    {
      "cell_type": "code",
      "source": [
        "mse = np.mean(((test_pred_inv - AMAZON_y_test_inv) ** 2))\n",
        "print(\"MSE\", mse)\n",
        "print(\"RMSE\", np.sqrt(mse))"
      ],
      "metadata": {
        "id": "MdNZF9LvSGe3"
      },
      "execution_count": null,
      "outputs": []
    },
    {
      "cell_type": "code",
      "source": [
        "# đánh giá hiệu suất của mô hình học máy (machine learning) trên tập kiểm thử (test set)\n",
        "from sklearn.metrics import accuracy_score\n",
        "# kiểm tra mô hình dự đoán trên 10 mẫu đầu tiên trong tập kiểm thử\n",
        "for i in range(10):\n",
        "    print(test_pred_inv[i], AMAZON_y_test_inv[i])"
      ],
      "metadata": {
        "id": "kMv3qkYzSHk7"
      },
      "execution_count": null,
      "outputs": []
    },
    {
      "cell_type": "code",
      "source": [
        "plt.figure(figsize=(16,8))\n",
        "plt.plot(AMAZON_y_test_inv, color = 'black', label = 'Test')\n",
        "plt.plot(test_pred_inv, color = 'green', label = 'pred')\n",
        "plt.title('SimpleRNN with DROPOUT REGULARIZATION')\n",
        "plt.legend()\n",
        "plt.show()"
      ],
      "metadata": {
        "id": "UvjZjfmYSJEu"
      },
      "execution_count": null,
      "outputs": []
    },
    {
      "cell_type": "markdown",
      "source": [
        "# LSTM"
      ],
      "metadata": {
        "id": "tGMhy7QRSL7f"
      }
    },
    {
      "cell_type": "code",
      "source": [
        "# tạo mô hình và đào tạo\n",
        "import tensorflow as tf\n",
        "from tensorflow.keras.layers import Conv1D, LSTM, Dense, Dropout, Bidirectional, TimeDistributed\n",
        "from tensorflow.keras.layers import MaxPooling1D, Flatten\n",
        "from tensorflow.keras.regularizers import L1, L2\n",
        "from tensorflow.keras.metrics import Accuracy\n",
        "from tensorflow.keras.metrics import RootMeanSquaredError\n",
        "model = tf.keras.Sequential()"
      ],
      "metadata": {
        "id": "yvSSh3MjSNIm"
      },
      "execution_count": null,
      "outputs": []
    },
    {
      "cell_type": "code",
      "source": [
        "# Lớp LSTM\n",
        "model.add(Bidirectional(LSTM(100, return_sequences=True)))\n",
        "model.add(Dropout(0.5))\n",
        "model.add(Bidirectional(LSTM(100, return_sequences=False)))\n",
        "model.add(Dropout(0.5))\n",
        "\n",
        "#Lớp cuối cùng\n",
        "model.add(Dense(1, activation='linear'))\n",
        "model.compile(optimizer='adam', loss='mse', metrics=['mae','mse','accuracy'])\n",
        "\n",
        "print(\"Amazone: \")\n",
        "history = model.fit(AMAZON_x_train, AMAZON_y_train, validation_data=(AMAZON_x_test,AMAZON_y_test), epochs=40,batch_size=40, verbose=1, shuffle =True)\n"
      ],
      "metadata": {
        "id": "reu8pRIESPNb"
      },
      "execution_count": null,
      "outputs": []
    },
    {
      "cell_type": "code",
      "source": [
        "plt.plot(history.history['loss'], label='train loss')\n",
        "plt.plot(history.history['val_loss'], label='val loss')\n",
        "plt.xlabel(\"epoch\")\n",
        "plt.ylabel(\"Loss\")\n",
        "plt.legend()"
      ],
      "metadata": {
        "id": "6Atl0oQGSQ2G"
      },
      "execution_count": null,
      "outputs": []
    },
    {
      "cell_type": "code",
      "source": [
        "plt.plot(history.history['mae'], label='train mae')\n",
        "plt.plot(history.history['val_mae'], label='val mae')\n",
        "plt.xlabel(\"epoch\")\n",
        "plt.ylabel(\"Loss\")\n",
        "plt.legend()"
      ],
      "metadata": {
        "id": "y4yPFlHWSSiK"
      },
      "execution_count": null,
      "outputs": []
    },
    {
      "cell_type": "code",
      "source": [
        "# Sau khi xây dựng xong mô hình, chúng ta sẽ tóm tắt lại\n",
        "from tensorflow.keras.utils import plot_model\n",
        "print(model.summary())\n",
        "plot_model(model, to_file='model.png', show_shapes=True, show_layer_names=True)"
      ],
      "metadata": {
        "id": "0IJg7XaUST65"
      },
      "execution_count": null,
      "outputs": []
    },
    {
      "cell_type": "code",
      "source": [
        "# đánh giá hiệu suất của mô hình trên tập dữ liệu kiểm tra.\n",
        "model.evaluate(AMAZON_x_test, AMAZON_y_test)\n"
      ],
      "metadata": {
        "id": "1Ay_wy02SVeZ"
      },
      "execution_count": null,
      "outputs": []
    },
    {
      "cell_type": "code",
      "source": [
        "from sklearn.metrics import explained_variance_score, mean_poisson_deviance, mean_gamma_deviance\n",
        "from sklearn.metrics import r2_score\n",
        "from sklearn.metrics import max_error\n",
        "\n",
        "# dự đoán xác suất cho tập kiểm tra\n",
        "yhat_probs = model.predict(AMAZON_x_test, verbose=0)\n",
        "# giảm xuống mảng 1d\n",
        "yhat_probs = yhat_probs[:, 0]\n",
        "\n",
        "var = explained_variance_score(AMAZON_y_test.reshape(-1,1), yhat_probs)\n",
        "print('Variance: %f' % var)\n",
        "\n",
        "r2 = r2_score(AMAZON_y_test.reshape(-1,1), yhat_probs)\n",
        "print('R2 Score: %f' % var)\n",
        "\n",
        "var2 = max_error(AMAZON_y_test.reshape(-1,1), yhat_probs)\n",
        "print('Max Error: %f' % var2)"
      ],
      "metadata": {
        "id": "uv3Om1yESWi_"
      },
      "execution_count": null,
      "outputs": []
    },
    {
      "cell_type": "code",
      "source": [
        "predicted  = model.predict(AMAZON_x_test)\n",
        "test_label = AMAZON_y_test.reshape(-1,1)\n",
        "predicted = np.array(predicted[:,0]).reshape(-1,1)\n",
        "len_t = len(AMAZON_x_train)\n",
        "#Lặp qua từng phần tử trong dữ liệu test.\n",
        "for j in range(len_t , len_t + len(AMAZON_x_test)):\n",
        "    temp = AMZN_df.iloc[j,3]\n",
        "    test_label[j - len_t] = test_label[j - len_t] * temp + temp\n",
        "    predicted[j - len_t] = predicted[j - len_t] * temp + temp\n",
        "# in ra đồ thị\n",
        "plt.plot(predicted, color = 'green', label = 'Predicted  Stock Price')\n",
        "plt.plot(test_label, color = 'red', label = 'Real Stock Price')\n",
        "plt.title(' Stock Price Prediction')\n",
        "plt.xlabel('Time')\n",
        "plt.ylabel(' Stock Price')\n",
        "plt.legend()\n",
        "plt.show()"
      ],
      "metadata": {
        "id": "P7v1Hej1SX4W"
      },
      "execution_count": null,
      "outputs": []
    },
    {
      "cell_type": "markdown",
      "source": [
        "##FFNN"
      ],
      "metadata": {
        "id": "iSS67c-nn9Sr"
      }
    },
    {
      "cell_type": "code",
      "source": [
        "from sklearn.model_selection import train_test_split\n",
        "df = AMZN_df\n",
        "# lấy dữ liệu từ cột Close trong dataFrame\n",
        "data = df['Close'].values.reshape(-1, 1)\n",
        "# chuẩn hóa dữ liệu\n",
        "scaler = MinMaxScaler(feature_range=(0, 1))\n",
        "data_scaled = scaler.fit_transform(data)\n",
        "X, Y = [], []\n",
        "window_size = 10  # Độ dài cửa sổ dữ liệu\n",
        "\n",
        "for i in range(len(data_scaled) - window_size):\n",
        "    X.append(data_scaled[i:i+window_size, 0])\n",
        "    Y.append(data_scaled[i+window_size, 0])\n",
        "\n",
        "X, Y = np.array(X), np.array(Y)\n",
        "\n",
        "# Chia dữ liệu thành tập huấn luyện và tập kiểm thử\n",
        "X_train, X_test, Y_train, Y_test = train_test_split(X, Y, test_size=0.2, shuffle=False)\n",
        "# in ra kích thước của tập huấn luyện và tập kiểm thử\n",
        "print(len(X_train))\n",
        "print(len(X_test))"
      ],
      "metadata": {
        "id": "RKVcxSaZn74O"
      },
      "execution_count": null,
      "outputs": []
    },
    {
      "cell_type": "code",
      "source": [
        "# xây dựng một mô hình mạng nơ-ron sử dụng thư viện TensorFlow và Keras\n",
        "import tensorflow as tf\n",
        "model = tf.keras.models.Sequential()\n",
        "model.add(Conv1D(filters=64, kernel_size=3, activation='relu', input_shape=(100, 1)))\n",
        "model.add(Flatten())\n",
        "model.add(Dense(50, activation='relu'))\n",
        "model.add(Dense(1))\n",
        "model.compile(optimizer='adam', loss='mean_squared_error')"
      ],
      "metadata": {
        "id": "zrdRZHE_otSv"
      },
      "execution_count": null,
      "outputs": []
    },
    {
      "cell_type": "code",
      "source": [
        "model = tf.keras.models.Sequential()\n",
        "model.add(tf.keras.layers.Dense(50, activation='relu', input_shape=(window_size,)))\n",
        "model.add(tf.keras.layers.Dense(1, activation='linear'))\n",
        "model.compile(optimizer='adam', loss='mean_squared_error')\n",
        "history = model.fit(X_train, Y_train, epochs=50, batch_size=32, validation_data=(X_test, Y_test))"
      ],
      "metadata": {
        "id": "JvBxX0syotyx"
      },
      "execution_count": null,
      "outputs": []
    },
    {
      "cell_type": "code",
      "source": [
        "plt.plot(history.history['loss'], label='train loss')\n",
        "plt.plot(history.history['val_loss'], label='val loss')\n",
        "plt.xlabel(\"epoch\")\n",
        "plt.ylabel(\"Loss\")\n",
        "plt.legend()"
      ],
      "metadata": {
        "id": "drsw3JtJpGrq"
      },
      "execution_count": null,
      "outputs": []
    },
    {
      "cell_type": "code",
      "source": [
        "# Sau khi xây dựng xong mô hình, chúng ta sẽ tóm tắt lại\n",
        "print(model.summary())\n",
        "plot_model(model, show_shapes=True, show_layer_names=True)"
      ],
      "metadata": {
        "id": "wWt0z3W9pkrO"
      },
      "execution_count": null,
      "outputs": []
    },
    {
      "cell_type": "code",
      "source": [
        "# đánh giá hiệu suất mô hình dựa trên giá trị Loss\n",
        "loss = model.evaluate(X_test, Y_test)\n",
        "print(f'Test Loss: {loss}')"
      ],
      "metadata": {
        "id": "wtRFT-efpnvF"
      },
      "execution_count": null,
      "outputs": []
    },
    {
      "cell_type": "code",
      "source": [
        "predictions = model.predict(X_test)\n",
        "predictions = scaler.inverse_transform(predictions)\n",
        "# in ra đồ thị\n",
        "plt.figure(figsize=(12, 6))\n",
        "plt.plot(df.index[-len(Y_test):], scaler.inverse_transform(Y_test.reshape(-1, 1)), label='Actual Price')\n",
        "plt.plot(df.index[-len(Y_test):], predictions, label='Predicted Price', linestyle='dashed')\n",
        "plt.title('Stock Price Prediction')\n",
        "plt.xlabel('Date')\n",
        "plt.ylabel('Stock Price')\n",
        "plt.legend()\n",
        "plt.show()"
      ],
      "metadata": {
        "id": "JjXLfJCkp68b"
      },
      "execution_count": null,
      "outputs": []
    }
  ]
}